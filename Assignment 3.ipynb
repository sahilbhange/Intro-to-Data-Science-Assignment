{
 "cells": [
  {
   "cell_type": "code",
   "execution_count": null,
   "metadata": {
    "collapsed": true
   },
   "outputs": [],
   "source": [
    "# "
   ]
  },
  {
   "cell_type": "code",
   "execution_count": 4,
   "metadata": {
    "collapsed": true
   },
   "outputs": [],
   "source": [
    "import numpy as np"
   ]
  },
  {
   "cell_type": "code",
   "execution_count": 5,
   "metadata": {
    "collapsed": true
   },
   "outputs": [],
   "source": [
    "#Creating array\n",
    "arr = np.arange(0,11)"
   ]
  },
  {
   "cell_type": "code",
   "execution_count": 6,
   "metadata": {
    "collapsed": false
   },
   "outputs": [
    {
     "data": {
      "text/plain": [
       "array([ 0,  1,  2,  3,  4,  5,  6,  7,  8,  9, 10])"
      ]
     },
     "execution_count": 6,
     "metadata": {},
     "output_type": "execute_result"
    }
   ],
   "source": [
    "arr"
   ]
  },
  {
   "cell_type": "code",
   "execution_count": 5,
   "metadata": {
    "collapsed": true
   },
   "outputs": [],
   "source": [
    "#Numpy indexing and selection"
   ]
  },
  {
   "cell_type": "code",
   "execution_count": 8,
   "metadata": {
    "collapsed": false
   },
   "outputs": [
    {
     "data": {
      "text/plain": [
       "8"
      ]
     },
     "execution_count": 8,
     "metadata": {},
     "output_type": "execute_result"
    }
   ],
   "source": [
    "arr[8] "
   ]
  },
  {
   "cell_type": "code",
   "execution_count": 9,
   "metadata": {
    "collapsed": false
   },
   "outputs": [
    {
     "data": {
      "text/plain": [
       "array([1, 2, 3, 4])"
      ]
     },
     "execution_count": 9,
     "metadata": {},
     "output_type": "execute_result"
    }
   ],
   "source": [
    "arr[1:5]  # Values in range using index"
   ]
  },
  {
   "cell_type": "code",
   "execution_count": 10,
   "metadata": {
    "collapsed": true
   },
   "outputs": [],
   "source": [
    "#Broadcasting data to array"
   ]
  },
  {
   "cell_type": "code",
   "execution_count": 11,
   "metadata": {
    "collapsed": true
   },
   "outputs": [],
   "source": [
    "arr[0:5]=100"
   ]
  },
  {
   "cell_type": "code",
   "execution_count": 12,
   "metadata": {
    "collapsed": false
   },
   "outputs": [
    {
     "data": {
      "text/plain": [
       "array([100, 100, 100, 100, 100,   5,   6,   7,   8,   9,  10])"
      ]
     },
     "execution_count": 12,
     "metadata": {},
     "output_type": "execute_result"
    }
   ],
   "source": [
    "arr"
   ]
  },
  {
   "cell_type": "code",
   "execution_count": 14,
   "metadata": {
    "collapsed": false
   },
   "outputs": [
    {
     "data": {
      "text/plain": [
       "array([ 0,  1,  2,  3,  4,  5,  6,  7,  8,  9, 10])"
      ]
     },
     "execution_count": 14,
     "metadata": {},
     "output_type": "execute_result"
    }
   ],
   "source": [
    "arr = np.arange(0,11)\n",
    "arr"
   ]
  },
  {
   "cell_type": "code",
   "execution_count": 15,
   "metadata": {
    "collapsed": true
   },
   "outputs": [],
   "source": [
    "#Slices of array"
   ]
  },
  {
   "cell_type": "code",
   "execution_count": 17,
   "metadata": {
    "collapsed": false
   },
   "outputs": [
    {
     "data": {
      "text/plain": [
       "array([0, 1, 2, 3, 4, 5])"
      ]
     },
     "execution_count": 17,
     "metadata": {},
     "output_type": "execute_result"
    }
   ],
   "source": [
    "slice_of_arr = arr[0:6]\n",
    "slice_of_arr"
   ]
  },
  {
   "cell_type": "code",
   "execution_count": 18,
   "metadata": {
    "collapsed": false
   },
   "outputs": [
    {
     "data": {
      "text/plain": [
       "array([99, 99, 99, 99, 99, 99])"
      ]
     },
     "execution_count": 18,
     "metadata": {},
     "output_type": "execute_result"
    }
   ],
   "source": [
    "#changing slice data\n",
    "slice_of_arr[:]=99\n",
    "slice_of_arr  "
   ]
  },
  {
   "cell_type": "code",
   "execution_count": 21,
   "metadata": {
    "collapsed": false
   },
   "outputs": [
    {
     "data": {
      "text/plain": [
       "array([99, 99, 99, 99, 99, 99,  6,  7,  8,  9, 10])"
      ]
     },
     "execution_count": 21,
     "metadata": {},
     "output_type": "execute_result"
    }
   ],
   "source": [
    "#Data is not copied, it's a view of the original array! This avoids memory problems\n",
    "arr   # changes in slice causes change in original array\n"
   ]
  },
  {
   "cell_type": "code",
   "execution_count": 24,
   "metadata": {
    "collapsed": false
   },
   "outputs": [
    {
     "data": {
      "text/plain": [
       "array([99, 99, 99, 99, 99, 99,  6,  7,  8,  9, 10])"
      ]
     },
     "execution_count": 24,
     "metadata": {},
     "output_type": "execute_result"
    }
   ],
   "source": [
    "#To create copy of array\n",
    "arr_copy = arr.copy()\n",
    "\n",
    "arr_copy"
   ]
  },
  {
   "cell_type": "code",
   "execution_count": 26,
   "metadata": {
    "collapsed": false
   },
   "outputs": [
    {
     "data": {
      "text/plain": [
       "array([[ 5, 10, 15],\n",
       "       [20, 25, 30],\n",
       "       [35, 40, 45]])"
      ]
     },
     "execution_count": 26,
     "metadata": {},
     "output_type": "execute_result"
    }
   ],
   "source": [
    "# Numpy 2D array\n",
    "arr_2d = np.array(([5,10,15],[20,25,30],[35,40,45]))\n",
    "\n",
    "arr_2d"
   ]
  },
  {
   "cell_type": "code",
   "execution_count": 31,
   "metadata": {
    "collapsed": false
   },
   "outputs": [
    {
     "data": {
      "text/plain": [
       "array([ 5, 10, 15])"
      ]
     },
     "execution_count": 31,
     "metadata": {},
     "output_type": "execute_result"
    }
   ],
   "source": [
    "#Indexing row ( indexing starts from the 0)\n",
    "arr_2d[0]\n"
   ]
  },
  {
   "cell_type": "code",
   "execution_count": 32,
   "metadata": {
    "collapsed": false
   },
   "outputs": [
    {
     "data": {
      "text/plain": [
       "array([20, 25, 30])"
      ]
     },
     "execution_count": 32,
     "metadata": {},
     "output_type": "execute_result"
    }
   ],
   "source": [
    "arr_2d[1]"
   ]
  },
  {
   "cell_type": "code",
   "execution_count": 33,
   "metadata": {
    "collapsed": false
   },
   "outputs": [
    {
     "data": {
      "text/plain": [
       "array([[10, 15],\n",
       "       [25, 30]])"
      ]
     },
     "execution_count": 33,
     "metadata": {},
     "output_type": "execute_result"
    }
   ],
   "source": [
    "# 2D array slicing\n",
    "\n",
    "#Shape (2,2) from top right corner\n",
    "arr_2d[:2,1:]"
   ]
  },
  {
   "cell_type": "code",
   "execution_count": 34,
   "metadata": {
    "collapsed": false
   },
   "outputs": [
    {
     "data": {
      "text/plain": [
       "array([35, 40, 45])"
      ]
     },
     "execution_count": 34,
     "metadata": {},
     "output_type": "execute_result"
    }
   ],
   "source": [
    "#Shape bottom row\n",
    "arr_2d[2]"
   ]
  },
  {
   "cell_type": "code",
   "execution_count": 36,
   "metadata": {
    "collapsed": false
   },
   "outputs": [
    {
     "data": {
      "text/plain": [
       "array([[ 0.,  0.,  0.,  0.,  0.,  0.,  0.,  0.,  0.,  0.],\n",
       "       [ 1.,  1.,  1.,  1.,  1.,  1.,  1.,  1.,  1.,  1.],\n",
       "       [ 2.,  2.,  2.,  2.,  2.,  2.,  2.,  2.,  2.,  2.],\n",
       "       [ 3.,  3.,  3.,  3.,  3.,  3.,  3.,  3.,  3.,  3.],\n",
       "       [ 4.,  4.,  4.,  4.,  4.,  4.,  4.,  4.,  4.,  4.],\n",
       "       [ 5.,  5.,  5.,  5.,  5.,  5.,  5.,  5.,  5.,  5.],\n",
       "       [ 6.,  6.,  6.,  6.,  6.,  6.,  6.,  6.,  6.,  6.],\n",
       "       [ 7.,  7.,  7.,  7.,  7.,  7.,  7.,  7.,  7.,  7.],\n",
       "       [ 8.,  8.,  8.,  8.,  8.,  8.,  8.,  8.,  8.,  8.],\n",
       "       [ 9.,  9.,  9.,  9.,  9.,  9.,  9.,  9.,  9.,  9.]])"
      ]
     },
     "execution_count": 36,
     "metadata": {},
     "output_type": "execute_result"
    }
   ],
   "source": [
    "#Set up matrix\n",
    "arr2d = np.zeros((10,10))   # create an array of 10*10\n",
    "arr_length = arr2d.shape[1] # get the lenght of array to print the elmetns\n",
    "#Set up array\n",
    "\n",
    "for i in range(arr_length):\n",
    "    arr2d[i] = i\n",
    "    \n",
    "arr2d"
   ]
  },
  {
   "cell_type": "code",
   "execution_count": 38,
   "metadata": {
    "collapsed": false
   },
   "outputs": [
    {
     "data": {
      "text/plain": [
       "array([[ 2.,  2.,  2.,  2.,  2.,  2.,  2.,  2.,  2.,  2.],\n",
       "       [ 4.,  4.,  4.,  4.,  4.,  4.,  4.,  4.,  4.,  4.],\n",
       "       [ 6.,  6.,  6.,  6.,  6.,  6.,  6.,  6.,  6.,  6.],\n",
       "       [ 8.,  8.,  8.,  8.,  8.,  8.,  8.,  8.,  8.,  8.]])"
      ]
     },
     "execution_count": 38,
     "metadata": {},
     "output_type": "execute_result"
    }
   ],
   "source": [
    "arr2d[[2,4,6,8]]  # printing specific rows"
   ]
  },
  {
   "cell_type": "code",
   "execution_count": 39,
   "metadata": {
    "collapsed": false
   },
   "outputs": [
    {
     "data": {
      "text/plain": [
       "array([[ 6.,  6.,  6.,  6.,  6.,  6.,  6.,  6.,  6.,  6.],\n",
       "       [ 4.,  4.,  4.,  4.,  4.,  4.,  4.,  4.,  4.,  4.],\n",
       "       [ 2.,  2.,  2.,  2.,  2.,  2.,  2.,  2.,  2.,  2.],\n",
       "       [ 7.,  7.,  7.,  7.,  7.,  7.,  7.,  7.,  7.,  7.]])"
      ]
     },
     "execution_count": 39,
     "metadata": {},
     "output_type": "execute_result"
    }
   ],
   "source": [
    "#Allows in any order\n",
    "arr2d[[6,4,2,7]]"
   ]
  },
  {
   "cell_type": "code",
   "execution_count": 40,
   "metadata": {
    "collapsed": true
   },
   "outputs": [],
   "source": [
    "# Array elemtsn comparison"
   ]
  },
  {
   "cell_type": "code",
   "execution_count": 41,
   "metadata": {
    "collapsed": false
   },
   "outputs": [
    {
     "data": {
      "text/plain": [
       "array([ 1,  2,  3,  4,  5,  6,  7,  8,  9, 10])"
      ]
     },
     "execution_count": 41,
     "metadata": {},
     "output_type": "execute_result"
    }
   ],
   "source": [
    "arr = np.arange(1,11)\n",
    "arr"
   ]
  },
  {
   "cell_type": "code",
   "execution_count": 42,
   "metadata": {
    "collapsed": false
   },
   "outputs": [
    {
     "data": {
      "text/plain": [
       "array([False, False, False, False,  True,  True,  True,  True,  True,  True], dtype=bool)"
      ]
     },
     "execution_count": 42,
     "metadata": {},
     "output_type": "execute_result"
    }
   ],
   "source": [
    "arr > 4"
   ]
  },
  {
   "cell_type": "code",
   "execution_count": 45,
   "metadata": {
    "collapsed": false
   },
   "outputs": [
    {
     "data": {
      "text/plain": [
       "array([False, False, False, False,  True,  True,  True,  True,  True,  True], dtype=bool)"
      ]
     },
     "execution_count": 45,
     "metadata": {},
     "output_type": "execute_result"
    }
   ],
   "source": [
    "bool_arr = arr>4\n",
    "bool_arr"
   ]
  },
  {
   "cell_type": "code",
   "execution_count": 46,
   "metadata": {
    "collapsed": false
   },
   "outputs": [
    {
     "data": {
      "text/plain": [
       "array([ 5,  6,  7,  8,  9, 10])"
      ]
     },
     "execution_count": 46,
     "metadata": {},
     "output_type": "execute_result"
    }
   ],
   "source": [
    "arr[bool_arr]"
   ]
  },
  {
   "cell_type": "code",
   "execution_count": 47,
   "metadata": {
    "collapsed": false
   },
   "outputs": [
    {
     "data": {
      "text/plain": [
       "array([ 3,  4,  5,  6,  7,  8,  9, 10])"
      ]
     },
     "execution_count": 47,
     "metadata": {},
     "output_type": "execute_result"
    }
   ],
   "source": [
    "arr[arr>2]"
   ]
  },
  {
   "cell_type": "code",
   "execution_count": 48,
   "metadata": {
    "collapsed": true
   },
   "outputs": [],
   "source": [
    "# Numpy arithmetic operations"
   ]
  },
  {
   "cell_type": "code",
   "execution_count": 51,
   "metadata": {
    "collapsed": false
   },
   "outputs": [
    {
     "data": {
      "text/plain": [
       "array([0, 1, 2, 3, 4, 5, 6, 7, 8, 9])"
      ]
     },
     "execution_count": 51,
     "metadata": {},
     "output_type": "execute_result"
    }
   ],
   "source": [
    "import numpy as np\n",
    "arr = np.arange(0,10)\n",
    "arr\n"
   ]
  },
  {
   "cell_type": "code",
   "execution_count": 52,
   "metadata": {
    "collapsed": false
   },
   "outputs": [
    {
     "data": {
      "text/plain": [
       "array([ 0,  2,  4,  6,  8, 10, 12, 14, 16, 18])"
      ]
     },
     "execution_count": 52,
     "metadata": {},
     "output_type": "execute_result"
    }
   ],
   "source": [
    "arr + arr   # array elemts summation"
   ]
  },
  {
   "cell_type": "code",
   "execution_count": 53,
   "metadata": {
    "collapsed": false
   },
   "outputs": [
    {
     "data": {
      "text/plain": [
       "array([ 0,  1,  4,  9, 16, 25, 36, 49, 64, 81])"
      ]
     },
     "execution_count": 53,
     "metadata": {},
     "output_type": "execute_result"
    }
   ],
   "source": [
    "arr * arr   # multi"
   ]
  },
  {
   "cell_type": "code",
   "execution_count": 54,
   "metadata": {
    "collapsed": false
   },
   "outputs": [
    {
     "data": {
      "text/plain": [
       "array([0, 0, 0, 0, 0, 0, 0, 0, 0, 0])"
      ]
     },
     "execution_count": 54,
     "metadata": {},
     "output_type": "execute_result"
    }
   ],
   "source": [
    "arr - arr   # subtraction"
   ]
  },
  {
   "cell_type": "code",
   "execution_count": 55,
   "metadata": {
    "collapsed": false
   },
   "outputs": [
    {
     "name": "stderr",
     "output_type": "stream",
     "text": [
      "C:\\Users\\Sandman\\Anaconda3\\lib\\site-packages\\ipykernel\\__main__.py:1: RuntimeWarning: invalid value encountered in true_divide\n",
      "  if __name__ == '__main__':\n"
     ]
    },
    {
     "data": {
      "text/plain": [
       "array([ nan,   1.,   1.,   1.,   1.,   1.,   1.,   1.,   1.,   1.])"
      ]
     },
     "execution_count": 55,
     "metadata": {},
     "output_type": "execute_result"
    }
   ],
   "source": [
    "arr/arr   # division  \n",
    "# notice the error for 0/0 as it is invalid division scenario"
   ]
  },
  {
   "cell_type": "code",
   "execution_count": 56,
   "metadata": {
    "collapsed": false
   },
   "outputs": [
    {
     "name": "stderr",
     "output_type": "stream",
     "text": [
      "C:\\Users\\Sandman\\Anaconda3\\lib\\site-packages\\ipykernel\\__main__.py:1: RuntimeWarning: divide by zero encountered in true_divide\n",
      "  if __name__ == '__main__':\n"
     ]
    },
    {
     "data": {
      "text/plain": [
       "array([        inf,  1.        ,  0.5       ,  0.33333333,  0.25      ,\n",
       "        0.2       ,  0.16666667,  0.14285714,  0.125     ,  0.11111111])"
      ]
     },
     "execution_count": 56,
     "metadata": {},
     "output_type": "execute_result"
    }
   ],
   "source": [
    "1/arr   # 1/0 infinity"
   ]
  },
  {
   "cell_type": "code",
   "execution_count": 57,
   "metadata": {
    "collapsed": false
   },
   "outputs": [
    {
     "data": {
      "text/plain": [
       "array([  0,   1,   8,  27,  64, 125, 216, 343, 512, 729], dtype=int32)"
      ]
     },
     "execution_count": 57,
     "metadata": {},
     "output_type": "execute_result"
    }
   ],
   "source": [
    "arr**3  # power function using numpy"
   ]
  },
  {
   "cell_type": "code",
   "execution_count": 58,
   "metadata": {
    "collapsed": false
   },
   "outputs": [
    {
     "data": {
      "text/plain": [
       "array([ 0.        ,  1.        ,  1.41421356,  1.73205081,  2.        ,\n",
       "        2.23606798,  2.44948974,  2.64575131,  2.82842712,  3.        ])"
      ]
     },
     "execution_count": 58,
     "metadata": {},
     "output_type": "execute_result"
    }
   ],
   "source": [
    "np.sqrt(arr)  # square root"
   ]
  },
  {
   "cell_type": "code",
   "execution_count": 59,
   "metadata": {
    "collapsed": false
   },
   "outputs": [
    {
     "data": {
      "text/plain": [
       "array([  1.00000000e+00,   2.71828183e+00,   7.38905610e+00,\n",
       "         2.00855369e+01,   5.45981500e+01,   1.48413159e+02,\n",
       "         4.03428793e+02,   1.09663316e+03,   2.98095799e+03,\n",
       "         8.10308393e+03])"
      ]
     },
     "execution_count": 59,
     "metadata": {},
     "output_type": "execute_result"
    }
   ],
   "source": [
    "# exponential (e^)\n",
    "np.exp(arr)"
   ]
  },
  {
   "cell_type": "code",
   "execution_count": 60,
   "metadata": {
    "collapsed": false
   },
   "outputs": [
    {
     "data": {
      "text/plain": [
       "9"
      ]
     },
     "execution_count": 60,
     "metadata": {},
     "output_type": "execute_result"
    }
   ],
   "source": [
    "np.max(arr) #Max element"
   ]
  },
  {
   "cell_type": "code",
   "execution_count": 62,
   "metadata": {
    "collapsed": false
   },
   "outputs": [
    {
     "data": {
      "text/plain": [
       "0"
      ]
     },
     "execution_count": 62,
     "metadata": {},
     "output_type": "execute_result"
    }
   ],
   "source": [
    "np.min(arr) #Min element"
   ]
  },
  {
   "cell_type": "code",
   "execution_count": 63,
   "metadata": {
    "collapsed": true
   },
   "outputs": [],
   "source": [
    "# Numpy array"
   ]
  },
  {
   "cell_type": "code",
   "execution_count": 64,
   "metadata": {
    "collapsed": false
   },
   "outputs": [
    {
     "data": {
      "text/plain": [
       "[1, 2, 3]"
      ]
     },
     "execution_count": 64,
     "metadata": {},
     "output_type": "execute_result"
    }
   ],
   "source": [
    "my_list = [1,2,3]\n",
    "my_list"
   ]
  },
  {
   "cell_type": "code",
   "execution_count": 65,
   "metadata": {
    "collapsed": false
   },
   "outputs": [
    {
     "data": {
      "text/plain": [
       "array([1, 2, 3])"
      ]
     },
     "execution_count": 65,
     "metadata": {},
     "output_type": "execute_result"
    }
   ],
   "source": [
    "np.array(my_list)"
   ]
  },
  {
   "cell_type": "code",
   "execution_count": 66,
   "metadata": {
    "collapsed": false
   },
   "outputs": [
    {
     "data": {
      "text/plain": [
       "[[1, 2, 3], [4, 5, 6], [7, 8, 9]]"
      ]
     },
     "execution_count": 66,
     "metadata": {},
     "output_type": "execute_result"
    }
   ],
   "source": [
    "my_matrix = [[1,2,3],[4,5,6],[7,8,9]]\n",
    "my_matrix"
   ]
  },
  {
   "cell_type": "code",
   "execution_count": 67,
   "metadata": {
    "collapsed": false
   },
   "outputs": [
    {
     "data": {
      "text/plain": [
       "array([[1, 2, 3],\n",
       "       [4, 5, 6],\n",
       "       [7, 8, 9]])"
      ]
     },
     "execution_count": 67,
     "metadata": {},
     "output_type": "execute_result"
    }
   ],
   "source": [
    "np.array(my_matrix)"
   ]
  },
  {
   "cell_type": "code",
   "execution_count": 68,
   "metadata": {
    "collapsed": false
   },
   "outputs": [
    {
     "data": {
      "text/plain": [
       "array([0, 1, 2, 3, 4, 5, 6, 7, 8, 9])"
      ]
     },
     "execution_count": 68,
     "metadata": {},
     "output_type": "execute_result"
    }
   ],
   "source": [
    "np.arange(0,10)  # array using range"
   ]
  },
  {
   "cell_type": "code",
   "execution_count": 69,
   "metadata": {
    "collapsed": false
   },
   "outputs": [
    {
     "data": {
      "text/plain": [
       "array([ 0,  2,  4,  6,  8, 10])"
      ]
     },
     "execution_count": 69,
     "metadata": {},
     "output_type": "execute_result"
    }
   ],
   "source": [
    "np.arange(0,11,2)  # array with sepcific interval"
   ]
  },
  {
   "cell_type": "code",
   "execution_count": 71,
   "metadata": {
    "collapsed": false
   },
   "outputs": [
    {
     "data": {
      "text/plain": [
       "array([ 0.,  0.,  0.])"
      ]
     },
     "execution_count": 71,
     "metadata": {},
     "output_type": "execute_result"
    }
   ],
   "source": [
    "np.zeros(3) # array with 0 elements values"
   ]
  },
  {
   "cell_type": "code",
   "execution_count": 72,
   "metadata": {
    "collapsed": false
   },
   "outputs": [
    {
     "data": {
      "text/plain": [
       "array([[ 0.,  0.,  0.,  0.,  0.],\n",
       "       [ 0.,  0.,  0.,  0.,  0.],\n",
       "       [ 0.,  0.,  0.,  0.,  0.],\n",
       "       [ 0.,  0.,  0.,  0.,  0.],\n",
       "       [ 0.,  0.,  0.,  0.,  0.]])"
      ]
     },
     "execution_count": 72,
     "metadata": {},
     "output_type": "execute_result"
    }
   ],
   "source": [
    "np.zeros((5,5))"
   ]
  },
  {
   "cell_type": "code",
   "execution_count": 73,
   "metadata": {
    "collapsed": false
   },
   "outputs": [
    {
     "data": {
      "text/plain": [
       "array([[ 1.,  1.,  1.],\n",
       "       [ 1.,  1.,  1.],\n",
       "       [ 1.,  1.,  1.]])"
      ]
     },
     "execution_count": 73,
     "metadata": {},
     "output_type": "execute_result"
    }
   ],
   "source": [
    "np.ones((3,3))"
   ]
  },
  {
   "cell_type": "code",
   "execution_count": 74,
   "metadata": {
    "collapsed": false
   },
   "outputs": [
    {
     "data": {
      "text/plain": [
       "array([  0.,   5.,  10.])"
      ]
     },
     "execution_count": 74,
     "metadata": {},
     "output_type": "execute_result"
    }
   ],
   "source": [
    "np.linspace(0,10,3)  # gives evenly spaced array "
   ]
  },
  {
   "cell_type": "code",
   "execution_count": 75,
   "metadata": {
    "collapsed": false
   },
   "outputs": [
    {
     "data": {
      "text/plain": [
       "array([  0.        ,   0.20408163,   0.40816327,   0.6122449 ,\n",
       "         0.81632653,   1.02040816,   1.2244898 ,   1.42857143,\n",
       "         1.63265306,   1.83673469,   2.04081633,   2.24489796,\n",
       "         2.44897959,   2.65306122,   2.85714286,   3.06122449,\n",
       "         3.26530612,   3.46938776,   3.67346939,   3.87755102,\n",
       "         4.08163265,   4.28571429,   4.48979592,   4.69387755,\n",
       "         4.89795918,   5.10204082,   5.30612245,   5.51020408,\n",
       "         5.71428571,   5.91836735,   6.12244898,   6.32653061,\n",
       "         6.53061224,   6.73469388,   6.93877551,   7.14285714,\n",
       "         7.34693878,   7.55102041,   7.75510204,   7.95918367,\n",
       "         8.16326531,   8.36734694,   8.57142857,   8.7755102 ,\n",
       "         8.97959184,   9.18367347,   9.3877551 ,   9.59183673,\n",
       "         9.79591837,  10.        ])"
      ]
     },
     "execution_count": 75,
     "metadata": {},
     "output_type": "execute_result"
    }
   ],
   "source": [
    "np.linspace(0,10,50)"
   ]
  },
  {
   "cell_type": "code",
   "execution_count": 76,
   "metadata": {
    "collapsed": false
   },
   "outputs": [
    {
     "data": {
      "text/plain": [
       "array([[ 1.,  0.,  0.,  0.],\n",
       "       [ 0.,  1.,  0.,  0.],\n",
       "       [ 0.,  0.,  1.,  0.],\n",
       "       [ 0.,  0.,  0.,  1.]])"
      ]
     },
     "execution_count": 76,
     "metadata": {},
     "output_type": "execute_result"
    }
   ],
   "source": [
    "np.eye(4)  # identity matrix"
   ]
  },
  {
   "cell_type": "code",
   "execution_count": 77,
   "metadata": {
    "collapsed": false
   },
   "outputs": [
    {
     "data": {
      "text/plain": [
       "array([ 0.40036347,  0.61963765])"
      ]
     },
     "execution_count": 77,
     "metadata": {},
     "output_type": "execute_result"
    }
   ],
   "source": [
    "np.random.rand(2)   # creating random values "
   ]
  },
  {
   "cell_type": "code",
   "execution_count": 78,
   "metadata": {
    "collapsed": false
   },
   "outputs": [
    {
     "data": {
      "text/plain": [
       "array([[ 0.39567037,  0.99639902,  0.40831456,  0.63707731,  0.89666526],\n",
       "       [ 0.91567816,  0.5870505 ,  0.97633217,  0.16328924,  0.25592933],\n",
       "       [ 0.56763995,  0.47709954,  0.37584528,  0.04859531,  0.56808268],\n",
       "       [ 0.85075774,  0.58928827,  0.93398545,  0.38793242,  0.60211264],\n",
       "       [ 0.80456101,  0.62330656,  0.40923419,  0.4296398 ,  0.70193375]])"
      ]
     },
     "execution_count": 78,
     "metadata": {},
     "output_type": "execute_result"
    }
   ],
   "source": [
    "np.random.rand(5,5)"
   ]
  },
  {
   "cell_type": "code",
   "execution_count": 80,
   "metadata": {
    "collapsed": false
   },
   "outputs": [
    {
     "data": {
      "text/plain": [
       "97"
      ]
     },
     "execution_count": 80,
     "metadata": {},
     "output_type": "execute_result"
    }
   ],
   "source": [
    "np.random.randint(1,100) # returns random value between range low (inclusive) to high (exclusive)"
   ]
  },
  {
   "cell_type": "code",
   "execution_count": 84,
   "metadata": {
    "collapsed": false
   },
   "outputs": [
    {
     "data": {
      "text/plain": [
       "(25,)"
      ]
     },
     "execution_count": 84,
     "metadata": {},
     "output_type": "execute_result"
    }
   ],
   "source": [
    "# Vector\n",
    "arr = np.arange(25)\n",
    "arr.shape\n"
   ]
  },
  {
   "cell_type": "code",
   "execution_count": 85,
   "metadata": {
    "collapsed": false
   },
   "outputs": [
    {
     "data": {
      "text/plain": [
       "array([[ 0,  1,  2,  3,  4,  5,  6,  7,  8,  9, 10, 11, 12, 13, 14, 15, 16,\n",
       "        17, 18, 19, 20, 21, 22, 23, 24]])"
      ]
     },
     "execution_count": 85,
     "metadata": {},
     "output_type": "execute_result"
    }
   ],
   "source": [
    "arr.reshape(1,25) # reshaping the array"
   ]
  },
  {
   "cell_type": "code",
   "execution_count": 86,
   "metadata": {
    "collapsed": false
   },
   "outputs": [
    {
     "data": {
      "text/plain": [
       "(1, 25)"
      ]
     },
     "execution_count": 86,
     "metadata": {},
     "output_type": "execute_result"
    }
   ],
   "source": [
    "arr.reshape(1,25).shape  # "
   ]
  },
  {
   "cell_type": "code",
   "execution_count": 87,
   "metadata": {
    "collapsed": false
   },
   "outputs": [
    {
     "data": {
      "text/plain": [
       "array([[ 0],\n",
       "       [ 1],\n",
       "       [ 2],\n",
       "       [ 3],\n",
       "       [ 4],\n",
       "       [ 5],\n",
       "       [ 6],\n",
       "       [ 7],\n",
       "       [ 8],\n",
       "       [ 9],\n",
       "       [10],\n",
       "       [11],\n",
       "       [12],\n",
       "       [13],\n",
       "       [14],\n",
       "       [15],\n",
       "       [16],\n",
       "       [17],\n",
       "       [18],\n",
       "       [19],\n",
       "       [20],\n",
       "       [21],\n",
       "       [22],\n",
       "       [23],\n",
       "       [24]])"
      ]
     },
     "execution_count": 87,
     "metadata": {},
     "output_type": "execute_result"
    }
   ],
   "source": [
    "arr.reshape(25,1)"
   ]
  },
  {
   "cell_type": "code",
   "execution_count": 88,
   "metadata": {
    "collapsed": false
   },
   "outputs": [
    {
     "data": {
      "text/plain": [
       "dtype('int32')"
      ]
     },
     "execution_count": 88,
     "metadata": {},
     "output_type": "execute_result"
    }
   ],
   "source": [
    "arr.dtype  # to check the data type of array elemnts"
   ]
  },
  {
   "cell_type": "code",
   "execution_count": 89,
   "metadata": {
    "collapsed": false
   },
   "outputs": [
    {
     "data": {
      "text/plain": [
       "array([[ 1,  2,  3,  4,  5],\n",
       "       [ 6,  7,  8,  9, 10],\n",
       "       [11, 12, 13, 14, 15],\n",
       "       [16, 17, 18, 19, 20],\n",
       "       [21, 22, 23, 24, 25]])"
      ]
     },
     "execution_count": 89,
     "metadata": {},
     "output_type": "execute_result"
    }
   ],
   "source": [
    "mat = np.arange(1,26).reshape(5,5)\n",
    "mat"
   ]
  },
  {
   "cell_type": "code",
   "execution_count": 90,
   "metadata": {
    "collapsed": false
   },
   "outputs": [
    {
     "data": {
      "text/plain": [
       "array([[12, 13, 14, 15],\n",
       "       [17, 18, 19, 20],\n",
       "       [22, 23, 24, 25]])"
      ]
     },
     "execution_count": 90,
     "metadata": {},
     "output_type": "execute_result"
    }
   ],
   "source": [
    "mat[2:,1:]"
   ]
  },
  {
   "cell_type": "code",
   "execution_count": 91,
   "metadata": {
    "collapsed": false
   },
   "outputs": [
    {
     "data": {
      "text/plain": [
       "325"
      ]
     },
     "execution_count": 91,
     "metadata": {},
     "output_type": "execute_result"
    }
   ],
   "source": [
    "mat.sum()  # get the summation of all the elements in the array"
   ]
  },
  {
   "cell_type": "code",
   "execution_count": 92,
   "metadata": {
    "collapsed": false
   },
   "outputs": [
    {
     "data": {
      "text/plain": [
       "7.2111025509279782"
      ]
     },
     "execution_count": 92,
     "metadata": {},
     "output_type": "execute_result"
    }
   ],
   "source": [
    "mat.std()  # Standard deviaton"
   ]
  },
  {
   "cell_type": "code",
   "execution_count": 93,
   "metadata": {
    "collapsed": false
   },
   "outputs": [
    {
     "data": {
      "text/plain": [
       "array([55, 60, 65, 70, 75])"
      ]
     },
     "execution_count": 93,
     "metadata": {},
     "output_type": "execute_result"
    }
   ],
   "source": [
    "mat.sum(axis=0)  # Colums wise sum"
   ]
  },
  {
   "cell_type": "code",
   "execution_count": 96,
   "metadata": {
    "collapsed": true
   },
   "outputs": [],
   "source": [
    "# Python scipy\n",
    "import numpy as np\n",
    "A = np.array([[1,2,3],[4,5,6],[7,8,8]])\n"
   ]
  },
  {
   "cell_type": "code",
   "execution_count": 99,
   "metadata": {
    "collapsed": false
   },
   "outputs": [
    {
     "data": {
      "text/plain": [
       "array([[1, 2, 3],\n",
       "       [4, 5, 6],\n",
       "       [7, 8, 8]])"
      ]
     },
     "execution_count": 99,
     "metadata": {},
     "output_type": "execute_result"
    }
   ],
   "source": [
    "from scipy import linalg   # linear algebra using scipy\n",
    "A"
   ]
  },
  {
   "cell_type": "code",
   "execution_count": 100,
   "metadata": {
    "collapsed": false
   },
   "outputs": [
    {
     "data": {
      "text/plain": [
       "2.999999999999997"
      ]
     },
     "execution_count": 100,
     "metadata": {},
     "output_type": "execute_result"
    }
   ],
   "source": [
    "linalg.det(A)   # Computing the determinant of the matrix"
   ]
  },
  {
   "cell_type": "markdown",
   "metadata": {},
   "source": [
    "Compute pivoted LU decomposition of a matrix.\n",
    "The decomposition is::\n",
    "A = P L U\n",
    "where P is a permutation matrix, L lower triangular with unit diagonal elements, and U upper triangular."
   ]
  },
  {
   "cell_type": "code",
   "execution_count": 101,
   "metadata": {
    "collapsed": true
   },
   "outputs": [],
   "source": [
    "P, L, U = linalg.lu(A)"
   ]
  },
  {
   "cell_type": "code",
   "execution_count": 102,
   "metadata": {
    "collapsed": false
   },
   "outputs": [
    {
     "data": {
      "text/plain": [
       "array([[ 0.,  1.,  0.],\n",
       "       [ 0.,  0.,  1.],\n",
       "       [ 1.,  0.,  0.]])"
      ]
     },
     "execution_count": 102,
     "metadata": {},
     "output_type": "execute_result"
    }
   ],
   "source": [
    "P"
   ]
  },
  {
   "cell_type": "code",
   "execution_count": 103,
   "metadata": {
    "collapsed": false
   },
   "outputs": [
    {
     "data": {
      "text/plain": [
       "array([[ 1.        ,  0.        ,  0.        ],\n",
       "       [ 0.14285714,  1.        ,  0.        ],\n",
       "       [ 0.57142857,  0.5       ,  1.        ]])"
      ]
     },
     "execution_count": 103,
     "metadata": {},
     "output_type": "execute_result"
    }
   ],
   "source": [
    "L"
   ]
  },
  {
   "cell_type": "code",
   "execution_count": 104,
   "metadata": {
    "collapsed": false
   },
   "outputs": [
    {
     "data": {
      "text/plain": [
       "array([[ 7.        ,  8.        ,  8.        ],\n",
       "       [ 0.        ,  0.85714286,  1.85714286],\n",
       "       [ 0.        ,  0.        ,  0.5       ]])"
      ]
     },
     "execution_count": 104,
     "metadata": {},
     "output_type": "execute_result"
    }
   ],
   "source": [
    "U"
   ]
  },
  {
   "cell_type": "code",
   "execution_count": null,
   "metadata": {
    "collapsed": true
   },
   "outputs": [],
   "source": []
  },
  {
   "cell_type": "code",
   "execution_count": 105,
   "metadata": {
    "collapsed": false
   },
   "outputs": [
    {
     "data": {
      "text/plain": [
       "array([[ 7.,  8.,  8.],\n",
       "       [ 1.,  2.,  3.],\n",
       "       [ 4.,  5.,  6.]])"
      ]
     },
     "execution_count": 105,
     "metadata": {},
     "output_type": "execute_result"
    }
   ],
   "source": [
    "np.dot(L,U)"
   ]
  },
  {
   "cell_type": "code",
   "execution_count": 106,
   "metadata": {
    "collapsed": true
   },
   "outputs": [],
   "source": [
    "EW, EV = linalg.eig(A)  # to fing the eigen values and eigen vectors"
   ]
  },
  {
   "cell_type": "code",
   "execution_count": 107,
   "metadata": {
    "collapsed": false
   },
   "outputs": [
    {
     "data": {
      "text/plain": [
       "array([ 15.55528261+0.j,  -1.41940876+0.j,  -0.13587385+0.j])"
      ]
     },
     "execution_count": 107,
     "metadata": {},
     "output_type": "execute_result"
    }
   ],
   "source": [
    "EW"
   ]
  },
  {
   "cell_type": "code",
   "execution_count": 108,
   "metadata": {
    "collapsed": false
   },
   "outputs": [
    {
     "data": {
      "text/plain": [
       "array([[-0.24043423, -0.67468642,  0.51853459],\n",
       "       [-0.54694322, -0.23391616, -0.78895962],\n",
       "       [-0.80190056,  0.70005819,  0.32964312]])"
      ]
     },
     "execution_count": 108,
     "metadata": {},
     "output_type": "execute_result"
    }
   ],
   "source": [
    "EV"
   ]
  },
  {
   "cell_type": "code",
   "execution_count": 109,
   "metadata": {
    "collapsed": true
   },
   "outputs": [],
   "source": [
    "v = np.array([[2],[3],[5]])"
   ]
  },
  {
   "cell_type": "code",
   "execution_count": 110,
   "metadata": {
    "collapsed": false
   },
   "outputs": [
    {
     "data": {
      "text/plain": [
       "array([[2],\n",
       "       [3],\n",
       "       [5]])"
      ]
     },
     "execution_count": 110,
     "metadata": {},
     "output_type": "execute_result"
    }
   ],
   "source": [
    "v"
   ]
  },
  {
   "cell_type": "code",
   "execution_count": 111,
   "metadata": {
    "collapsed": true
   },
   "outputs": [],
   "source": [
    "s = linalg.solve(A,v)   # solving system of linear algebra"
   ]
  },
  {
   "cell_type": "code",
   "execution_count": 112,
   "metadata": {
    "collapsed": false
   },
   "outputs": [
    {
     "data": {
      "text/plain": [
       "array([[-2.33333333],\n",
       "       [ 3.66666667],\n",
       "       [-1.        ]])"
      ]
     },
     "execution_count": 112,
     "metadata": {},
     "output_type": "execute_result"
    }
   ],
   "source": [
    "s"
   ]
  },
  {
   "cell_type": "code",
   "execution_count": 113,
   "metadata": {
    "collapsed": true
   },
   "outputs": [],
   "source": [
    "from scipy import sparse  # Sparse linear algebra"
   ]
  },
  {
   "cell_type": "code",
   "execution_count": 114,
   "metadata": {
    "collapsed": false
   },
   "outputs": [
    {
     "data": {
      "text/plain": [
       "<1000x1000 sparse matrix of type '<class 'numpy.float64'>'\n",
       "\twith 0 stored elements in LInked List format>"
      ]
     },
     "execution_count": 114,
     "metadata": {},
     "output_type": "execute_result"
    }
   ],
   "source": [
    "A = sparse.lil_matrix((1000, 1000))\n",
    "A"
   ]
  },
  {
   "cell_type": "code",
   "execution_count": 115,
   "metadata": {
    "collapsed": true
   },
   "outputs": [],
   "source": [
    "A[0,:100] = np.random.rand(100)"
   ]
  },
  {
   "cell_type": "code",
   "execution_count": 116,
   "metadata": {
    "collapsed": true
   },
   "outputs": [],
   "source": [
    "A[1,100:200] = A[0,:100]"
   ]
  },
  {
   "cell_type": "code",
   "execution_count": null,
   "metadata": {
    "collapsed": true
   },
   "outputs": [],
   "source": []
  },
  {
   "cell_type": "code",
   "execution_count": 117,
   "metadata": {
    "collapsed": true
   },
   "outputs": [],
   "source": [
    "A.setdiag(np.random.rand(1000))"
   ]
  },
  {
   "cell_type": "code",
   "execution_count": 118,
   "metadata": {
    "collapsed": false
   },
   "outputs": [
    {
     "data": {
      "text/plain": [
       "<1000x1000 sparse matrix of type '<class 'numpy.float64'>'\n",
       "\twith 1199 stored elements in LInked List format>"
      ]
     },
     "execution_count": 118,
     "metadata": {},
     "output_type": "execute_result"
    }
   ],
   "source": [
    "A"
   ]
  },
  {
   "cell_type": "code",
   "execution_count": 119,
   "metadata": {
    "collapsed": true
   },
   "outputs": [],
   "source": [
    "from scipy.sparse import linalg"
   ]
  },
  {
   "cell_type": "code",
   "execution_count": 120,
   "metadata": {
    "collapsed": false
   },
   "outputs": [
    {
     "data": {
      "text/plain": [
       "<1000x1000 sparse matrix of type '<class 'numpy.float64'>'\n",
       "\twith 1199 stored elements in Compressed Sparse Row format>"
      ]
     },
     "execution_count": 120,
     "metadata": {},
     "output_type": "execute_result"
    }
   ],
   "source": [
    "# Convert this matrix to Compressed Sparse Row format.\n",
    "A.tocsr()"
   ]
  },
  {
   "cell_type": "code",
   "execution_count": 121,
   "metadata": {
    "collapsed": true
   },
   "outputs": [],
   "source": [
    "A = A.tocsr()"
   ]
  },
  {
   "cell_type": "code",
   "execution_count": 122,
   "metadata": {
    "collapsed": true
   },
   "outputs": [],
   "source": [
    "b = np.random.rand(1000)"
   ]
  },
  {
   "cell_type": "code",
   "execution_count": 123,
   "metadata": {
    "collapsed": false
   },
   "outputs": [
    {
     "data": {
      "text/plain": [
       "array([ -5.54109968e+02,  -1.09646493e+02,   3.98516466e-01,\n",
       "         3.54941509e-01,   1.01035413e+00,   1.15168929e+00,\n",
       "         5.79057995e-02,   3.21034272e-01,   1.54434441e+00,\n",
       "         4.97113513e+00,   1.23816212e+00,   4.66808932e+00,\n",
       "         9.66079092e-02,   1.12657122e+00,   6.47888150e-01,\n",
       "         6.83397219e-01,   1.82464371e+00,   1.05153204e+00,\n",
       "         2.02518940e+00,   1.55606493e+00,   2.31979713e-01,\n",
       "         1.05518284e+00,   1.05839127e+00,   3.43299680e-01,\n",
       "         3.29451464e+00,   8.71175120e-02,   3.02134864e+00,\n",
       "         9.59342622e-01,   2.59072748e-01,   1.74425302e+00,\n",
       "         1.80243056e+00,   1.34833286e+01,   8.56209024e-01,\n",
       "         6.59056395e-01,   5.70703992e-01,   1.03272822e+00,\n",
       "         5.39945376e+00,   1.48392098e+01,   4.17936469e-01,\n",
       "         7.35702511e-01,   1.43786225e+00,   2.73339637e+00,\n",
       "         1.51225854e+00,   5.90956954e-01,   4.70310016e-01,\n",
       "         9.84468504e+00,   9.00133690e-01,   8.87926533e-01,\n",
       "         8.78341111e-01,   6.69732754e-01,   2.66715706e+03,\n",
       "         1.03450397e+00,   1.08546342e+00,   1.21646252e+00,\n",
       "         7.05764445e-01,   2.82538669e-01,   1.48390141e+00,\n",
       "         1.11448601e+00,   4.00368709e-01,   1.21113907e-01,\n",
       "         7.20150243e-01,   1.25504485e+00,   3.32694331e-01,\n",
       "         1.19121933e+00,   6.95241996e+01,   2.25996386e-01,\n",
       "         1.06080020e+00,   1.22229104e-01,   2.28077085e-01,\n",
       "         3.05678903e+00,   3.45711083e+00,   1.24779728e+00,\n",
       "         5.60580742e-01,   2.08450134e+00,   2.04622187e-01,\n",
       "         2.05525421e+01,   8.63334878e-01,   1.04305057e+00,\n",
       "         4.43956645e-01,   1.74155705e+00,   6.46043704e-01,\n",
       "         9.75307805e-01,   1.30178278e+00,   9.69239872e-01,\n",
       "         1.26199990e+00,   1.31822987e-01,   4.83691508e+01,\n",
       "         6.84559824e-02,   1.34204604e+00,   1.01457529e+00,\n",
       "         6.63370941e-01,   5.75203457e+01,   2.05161423e-01,\n",
       "         7.77543706e-01,   3.84232008e+00,   2.44585457e+00,\n",
       "         2.63994386e-01,   7.17292931e+00,   2.29569581e+00,\n",
       "         1.19558295e+00,   1.04226592e+00,   6.10563011e-01,\n",
       "         1.57979894e+00,   1.28301542e+00,   1.86106208e+01,\n",
       "         5.27223037e+00,   6.21848285e-01,   2.56389678e+00,\n",
       "         6.40692033e-01,   1.42572813e+00,   4.32406165e-01,\n",
       "         7.86716329e-01,   1.28573657e+00,   8.27291295e-01,\n",
       "         8.04476780e-01,   8.40453395e-01,   5.25447368e-01,\n",
       "         7.07093947e-01,   4.56566553e-01,   1.57887478e-01,\n",
       "         2.43288863e+00,   5.58645861e-01,   1.59130846e+00,\n",
       "         1.75258881e-01,   4.06241030e-01,   1.18190224e+00,\n",
       "         1.17912337e+00,   1.60285221e+00,   9.51164870e+00,\n",
       "         3.72008491e-01,   2.95306076e-01,   8.86270299e-01,\n",
       "         4.68855006e-01,   1.50652145e+00,   6.97188958e-01,\n",
       "         9.03300160e-01,   6.61929767e-01,   3.17422848e-03,\n",
       "         1.02266932e+01,   1.32956419e-01,   6.09822705e-01,\n",
       "         1.76722015e+00,   2.75291091e+00,   4.30066925e-01,\n",
       "         8.20754711e+00,   7.38695193e-01,   1.48170037e-01,\n",
       "         5.12801529e-01,   6.96207879e-01,   2.86244634e-01,\n",
       "         1.78367098e-01,   1.26801955e+01,   9.43462203e-01,\n",
       "         2.94110731e-01,   1.86891173e+00,   4.65952119e-01,\n",
       "         1.12225204e+00,   1.20305716e+00,   2.15735850e-01,\n",
       "         1.34879615e+00,   9.49316896e-01,   1.43769739e+00,\n",
       "         1.31257619e+01,   2.45243954e+00,   1.17120239e+00,\n",
       "         1.02507559e+00,   1.81334875e+00,   1.24169412e+00,\n",
       "         4.87727067e-02,   6.62936937e+00,   8.94412803e-01,\n",
       "         1.35892272e+00,   7.02111004e-01,   1.08089364e+00,\n",
       "         9.71274038e-01,   6.56046263e-01,   7.96954999e-01,\n",
       "         2.86621550e-01,   4.08970354e-01,   4.66879204e-01,\n",
       "         8.03200904e+00,   4.11873448e-01,   9.24469037e-01,\n",
       "         1.34470173e-01,   7.29121546e-02,   5.35515635e-01,\n",
       "         1.43227110e+01,   5.50722787e+00,   2.79464923e-01,\n",
       "         6.70695435e-01,   9.06086026e-01,   3.07346007e-01,\n",
       "         8.56299767e-01,   3.14783982e+00,   5.22805193e-01,\n",
       "         4.53199875e+00,   3.83647073e-01,   4.65879265e-01,\n",
       "         6.04769096e-01,   6.02307183e+00,   2.70568459e+00,\n",
       "         7.49884723e-01,   4.44992116e+00,   4.20420798e-01,\n",
       "         1.33890311e+00,   3.53874711e-01,   1.09111579e+00,\n",
       "         2.58012655e+00,   4.06736226e-02,   1.41915414e+00,\n",
       "         1.30548318e+00,   2.04350111e+00,   1.68587905e+01,\n",
       "         6.50249253e-01,   2.12718618e+00,   9.13524725e-01,\n",
       "         1.63897811e+00,   9.85541586e-01,   6.04429779e-01,\n",
       "         4.43150771e-01,   1.60589796e+00,   1.24601760e+00,\n",
       "         1.50807094e+00,   3.39251092e-01,   7.95016707e+00,\n",
       "         7.05703392e+00,   3.95939087e+00,   1.13566900e+00,\n",
       "         5.15081764e-01,   4.01715225e+00,   3.60334202e+00,\n",
       "         1.02477217e+00,   3.49478473e-01,   7.68537255e-01,\n",
       "         1.38736925e+00,   4.89149844e-01,   1.11570761e+00,\n",
       "         3.06451467e-01,   1.33653339e+00,   1.40385977e+00,\n",
       "         4.65375316e+01,   1.79958091e+01,   3.86787699e+00,\n",
       "         6.96425051e-01,   4.46267811e+00,   1.32243143e+00,\n",
       "         1.14162599e+01,   2.27347275e+00,   8.17775739e-01,\n",
       "         7.42090836e-01,   7.55563889e-01,   7.78960392e-02,\n",
       "         4.88587400e-01,   9.42651366e-01,   5.72372448e-01,\n",
       "         8.70830765e+00,   9.73987657e-01,   2.96030592e+00,\n",
       "         6.33106637e-01,   2.58400903e-01,   1.67525028e+01,\n",
       "         5.51901888e-01,   1.51774068e-01,   3.54295941e+00,\n",
       "         7.59981732e+00,   6.35834136e-01,   1.27630220e+00,\n",
       "         1.39033613e+00,   8.80896698e-01,   1.46010924e+00,\n",
       "         5.07366711e-01,   8.69113010e-02,   9.16508420e-02,\n",
       "         3.51604044e-01,   3.10359958e+00,   1.54096450e+00,\n",
       "         1.80696195e+00,   6.55085027e+00,   2.25836367e-01,\n",
       "         1.72981443e+00,   7.33651086e-01,   1.63814842e+00,\n",
       "         3.91273818e-01,   9.40205863e-01,   1.49359891e+00,\n",
       "         5.82793976e-01,   5.49668415e-01,   9.18888115e-01,\n",
       "         1.15262063e+00,   4.91587366e-01,   9.40822570e+00,\n",
       "         1.88915511e+00,   2.92900154e+00,   1.38670014e+00,\n",
       "         9.18614206e-01,   8.43611983e-01,   1.35467526e+00,\n",
       "         8.24951644e-01,   3.55319857e-01,   8.56318606e-01,\n",
       "         1.02059052e+00,   1.49561336e+00,   2.37682410e-01,\n",
       "         1.88838529e+00,   2.93269024e+00,   1.47195324e+00,\n",
       "         1.32201719e+00,   9.91549285e-01,   7.66503824e-01,\n",
       "         2.26206063e+00,   2.88480818e+00,   4.43333018e+00,\n",
       "         6.57556934e-01,   3.54071170e-01,   1.44399390e+00,\n",
       "         1.53181431e+00,   1.69405332e+00,   2.41033084e+00,\n",
       "         5.24125430e-01,   8.53701650e-01,   1.91609760e+00,\n",
       "         3.88209119e-01,   8.88450557e-01,   9.12213100e-01,\n",
       "         1.50175038e+01,   4.22166258e-01,   5.12150554e-01,\n",
       "         8.65431688e-01,   3.04763601e-01,   3.56258709e-01,\n",
       "         1.86387395e+00,   3.35257807e-01,   7.40111110e-01,\n",
       "         1.07974584e+00,   1.32090525e+00,   3.49707406e-01,\n",
       "         5.92089494e-01,   2.73264826e-01,   3.09444265e+01,\n",
       "         2.65607507e-01,   8.94988007e-01,   2.73779721e-01,\n",
       "         7.64174180e-01,   1.85759274e+00,   1.13403641e+00,\n",
       "         7.63467127e-01,   1.04537461e+01,   1.09128687e+00,\n",
       "         2.65915992e-01,   8.58652765e-01,   2.72899176e-01,\n",
       "         8.51742864e-01,   1.33721038e+00,   6.08908104e+00,\n",
       "         1.95005186e-01,   1.73490759e-01,   6.17418588e-01,\n",
       "         3.81009961e+00,   9.43522862e-01,   1.51112042e+00,\n",
       "         9.22009390e-01,   9.92681853e-01,   4.47137566e+00,\n",
       "         2.67534310e+00,   1.99637313e+00,   1.53159258e+00,\n",
       "         1.00329562e+00,   1.55591125e+00,   2.15649712e-01,\n",
       "         1.42967503e+00,   1.20302172e+00,   1.44986994e-01,\n",
       "         3.84190072e+00,   4.48984975e+00,   1.00291008e+00,\n",
       "         1.28418898e+00,   2.41646831e+00,   5.95023105e-01,\n",
       "         5.95373569e-02,   1.64852299e-01,   2.86083118e+00,\n",
       "         6.23573816e+00,   1.17519563e+00,   1.55632074e-02,\n",
       "         4.64716735e-01,   1.15004664e+00,   4.64760891e-01,\n",
       "         1.39233433e-01,   6.96352133e-01,   9.34111041e-01,\n",
       "         4.41204518e+00,   4.08414490e-01,   1.34690403e+00,\n",
       "         6.73456092e-01,   1.62699080e+00,   8.42930466e-01,\n",
       "         2.35387578e-01,   1.45165364e-01,   1.53613796e+00,\n",
       "         4.77565316e-02,   6.31383894e-01,   3.62261613e+00,\n",
       "         1.09622225e+00,   6.22077739e-01,   5.96258029e-01,\n",
       "         4.81224408e-01,   2.84582239e+00,   2.04954528e+00,\n",
       "         9.68861891e-01,   2.15346894e+00,   1.19924542e-01,\n",
       "         6.79950125e-01,   7.86948143e-01,   4.55919092e-01,\n",
       "         4.01195357e-01,   2.18411346e+00,   5.12392168e-01,\n",
       "         1.10099373e-01,   7.03020136e-01,   5.36116467e-01,\n",
       "         5.22225129e-01,   9.76124718e-01,   3.62604387e+00,\n",
       "         2.05956976e-02,   2.90860134e+01,   2.84574947e+00,\n",
       "         2.87644601e-01,   1.23096696e+00,   1.86289363e-01,\n",
       "         1.06045501e+00,   2.85237428e-01,   3.91962629e-01,\n",
       "         1.40468363e+00,   4.65871344e-01,   1.21528247e+00,\n",
       "         2.75192274e+00,   1.85937342e+00,   3.60129474e-01,\n",
       "         7.04883699e-01,   6.04469077e-01,   8.42847727e-01,\n",
       "         7.84088705e-01,   1.14936827e+00,   1.49082101e+00,\n",
       "         9.65166439e+00,   2.99828425e-01,   3.09635094e-01,\n",
       "         1.25706901e+00,   5.05653848e+00,   2.54648835e+00,\n",
       "         1.12775989e+00,   1.16717041e+00,   9.21663053e-01,\n",
       "         2.46054402e+00,   1.57403100e+00,   8.19244514e-01,\n",
       "         4.67449846e+00,   1.50019728e+00,   3.25694053e-01,\n",
       "         5.52323669e+00,   6.94921999e-01,   1.18849681e+00,\n",
       "         5.93099575e+00,   2.78970469e+00,   5.55097302e+00,\n",
       "         8.56967444e-01,   5.03976609e+00,   9.50407589e+00,\n",
       "         1.15051338e+00,   1.42893134e+00,   3.24991789e+00,\n",
       "         9.80617121e-01,   5.06066939e+00,   1.19669154e-01,\n",
       "         1.44993741e+00,   2.06474921e+00,   1.82394468e+00,\n",
       "         2.32527989e+00,   9.43662839e-01,   5.93091556e-01,\n",
       "         1.75866473e+00,   7.87001252e-01,   1.95498765e+00,\n",
       "         1.16255222e+00,   1.92551139e-01,   3.15113957e-01,\n",
       "         1.17544484e+02,   9.90372497e-01,   2.37453438e+00,\n",
       "         8.81167926e+00,   8.44289863e+00,   1.41674980e+00,\n",
       "         8.53358755e-01,   6.88417751e-02,   3.14028319e-01,\n",
       "         2.51723955e+00,   1.59153728e+00,   8.40365890e-01,\n",
       "         1.19465586e+00,   2.93547994e+00,   1.16468461e+00,\n",
       "         9.86575205e-01,   4.02040673e-01,   3.05143916e-01,\n",
       "         2.71407914e+00,   2.09171343e+00,   8.06678630e-01,\n",
       "         1.12903920e+00,   9.03786080e-01,   8.36462013e-01,\n",
       "         1.46451353e+00,   1.47812595e+00,   3.45089991e-01,\n",
       "         9.61094104e-01,   6.68436163e+00,   2.21241562e+00,\n",
       "         9.71061585e-01,   6.99715345e-01,   1.84472784e+00,\n",
       "         1.86224230e+00,   1.20692550e+00,   1.54415624e+00,\n",
       "         1.03319659e+00,   1.83155862e-01,   2.73517225e-02,\n",
       "         4.50112134e+00,   2.60676286e-01,   1.42403772e+00,\n",
       "         1.59418100e+00,   5.19863996e+00,   8.48634619e-01,\n",
       "         3.25978081e+01,   8.21137851e-01,   1.06804825e+00,\n",
       "         2.20405772e+00,   3.90843425e-01,   5.11068828e-01,\n",
       "         2.90543488e-01,   6.93187751e-01,   3.06966168e-01,\n",
       "         1.99916155e+00,   8.01050158e-01,   3.29698353e-01,\n",
       "         5.42202489e-01,   5.55446402e-01,   2.84367458e+00,\n",
       "         7.05751307e-01,   2.85007517e-02,   3.30132748e+00,\n",
       "         5.47079104e-01,   8.65189878e-01,   3.03498356e-01,\n",
       "         3.14514620e+00,   8.63096894e+00,   1.20927359e+00,\n",
       "         6.94053502e-01,   7.37037869e-01,   6.26861710e-01,\n",
       "         1.81470233e+00,   1.21762235e-01,   2.61799516e+00,\n",
       "         5.09211283e-01,   7.89387363e-01,   1.47983369e-01,\n",
       "         1.46752583e+00,   1.74990817e+00,   1.13253456e+01,\n",
       "         1.00198873e+01,   1.35056526e+01,   5.63287975e-01,\n",
       "         2.60143105e-01,   1.11418110e+00,   5.89764428e-01,\n",
       "         2.34929930e+00,   1.58184246e+00,   2.89840857e+00,\n",
       "         1.98900307e+00,   3.27631107e+00,   5.36217358e-01,\n",
       "         5.04871390e-02,   1.09019910e+00,   1.61961448e-01,\n",
       "         1.12883321e-01,   1.33833015e+00,   1.60042997e+00,\n",
       "         4.73295750e-01,   1.53999603e+00,   5.18853257e+00,\n",
       "         5.12103023e+00,   6.13474640e-01,   3.21062302e-01,\n",
       "         1.85209076e-02,   5.54681437e+00,   2.83957733e+00,\n",
       "         4.22257562e-01,   6.28389091e-01,   1.91107997e+00,\n",
       "         3.05175906e+00,   1.06383919e+00,   5.79952476e-01,\n",
       "         9.96854480e-01,   1.21638224e+00,   1.36157592e+00,\n",
       "         1.02172005e+00,   6.88817071e-01,   1.52964355e+00,\n",
       "         8.78945853e-02,   3.55398352e-01,   4.49369235e-01,\n",
       "         5.14068947e-01,   2.30088157e+00,   3.87722903e+00,\n",
       "         1.42349009e+00,   1.42444765e+00,   8.83971531e-01,\n",
       "         1.49345518e+00,   1.12542399e+00,   9.45048516e-01,\n",
       "         2.02924386e+00,   1.30338849e+01,   4.97261534e-01,\n",
       "         5.21747711e-01,   1.73414205e+00,   2.47871743e+00,\n",
       "         1.28517233e+00,   9.14660280e-01,   1.80150523e-01,\n",
       "         1.88606996e+00,   2.42806567e+00,   1.06043356e+00,\n",
       "         1.84378229e+00,   2.54078067e+00,   6.01228121e-02,\n",
       "         1.75067977e+01,   1.40635245e+00,   1.49083696e+00,\n",
       "         1.95106859e-02,   5.51625281e+00,   2.28542306e-02,\n",
       "         3.35678173e+01,   1.05546818e+00,   3.45346410e+00,\n",
       "         6.36508013e+00,   8.20933113e-01,   2.82521820e-01,\n",
       "         1.66419138e+00,   3.65391880e-01,   7.42090945e-01,\n",
       "         1.83773733e+00,   1.66795033e+00,   3.58748880e-01,\n",
       "         1.21454565e+00,   4.17663689e-01,   2.62682531e+00,\n",
       "         1.54832774e+00,   1.90967203e-01,   8.83081272e-01,\n",
       "         8.51594280e-01,   3.11821628e-01,   2.79766029e+00,\n",
       "         4.97420290e-01,   4.33010934e+00,   5.76725818e-02,\n",
       "         2.07593931e+00,   1.88034789e+00,   5.41442443e-01,\n",
       "         1.07647619e-01,   7.98834824e-01,   1.01640544e+00,\n",
       "         3.00938876e-01,   1.77306644e+01,   1.07377315e+00,\n",
       "         1.08915680e+00,   1.93133874e+00,   8.01216547e-01,\n",
       "         8.70703173e+00,   1.21934926e+00,   5.12861322e+00,\n",
       "         2.25832430e+00,   1.37864323e+00,   6.04202805e-01,\n",
       "         1.12771994e+00,   4.62058014e-01,   4.97905274e-01,\n",
       "         8.52677165e-01,   2.64767306e+00,   6.97467932e-01,\n",
       "         5.71447635e-01,   2.15696864e+00,   3.31031909e+00,\n",
       "         1.04954333e+00,   1.74767223e+00,   1.87716523e-01,\n",
       "         2.01705317e-01,   1.57154208e+00,   4.58372916e-01,\n",
       "         6.40585862e-01,   4.00056292e-01,   1.78677419e+00,\n",
       "         9.22051338e-01,   6.51878464e-01,   1.74009610e-01,\n",
       "         2.33059154e+00,   1.17025533e+00,   1.37466073e+00,\n",
       "         7.13901604e-01,   2.05263651e+00,   7.63448205e-01,\n",
       "         1.73575652e+00,   3.80986841e+00,   9.97527956e-01,\n",
       "         1.07955707e+00,   3.16103689e-01,   2.00901941e-01,\n",
       "         9.15028787e-01,   5.28678752e-01,   1.14637343e+00,\n",
       "         2.10567748e+00,   2.32592672e-01,   3.31079630e-01,\n",
       "         1.13234517e+01,   4.36924592e-01,   9.85129811e-01,\n",
       "         3.89300612e-01,   1.95777781e+00,   3.58921130e-01,\n",
       "         5.29771575e-01,   3.12823583e-01,   2.55859745e+00,\n",
       "         8.14820724e+01,   1.41612296e-01,   1.78237138e+00,\n",
       "         8.33031913e-01,   1.24021558e+00,   3.52863527e+00,\n",
       "         3.90366785e-01,   1.20915521e+01,   3.63315122e+00,\n",
       "         9.33505315e-01,   3.70306181e-01,   1.46598780e+00,\n",
       "         2.66525839e+00,   5.51935503e+00,   3.14365805e+00,\n",
       "         2.63027624e+00,   3.61762466e+00,   2.50254774e-01,\n",
       "         9.95069277e-01,   3.32697587e+00,   9.65185050e-01,\n",
       "         6.60613809e-02,   4.22575220e-01,   5.48745428e-01,\n",
       "         6.35359792e-01,   3.81530764e-01,   3.97737600e-02,\n",
       "         2.22990897e+00,   1.80851274e+00,   3.42337824e+00,\n",
       "         4.90285863e-01,   1.25685736e+00,   5.54400373e+00,\n",
       "         6.35604382e-01,   1.06225714e+00,   4.87235732e+00,\n",
       "         1.82692481e+00,   1.70381651e+00,   1.22827944e+00,\n",
       "         6.71909562e-01,   1.76094219e+00,   1.73566123e+00,\n",
       "         6.47582897e-01,   1.35921818e+00,   2.10249978e+00,\n",
       "         2.19783554e+00,   1.44886034e+00,   9.40472636e-01,\n",
       "         5.38570107e-01,   4.81610205e-01,   9.53710813e-01,\n",
       "         1.99917029e+00,   3.31351928e-01,   1.12552489e+00,\n",
       "         2.11825222e+00,   8.55068526e-01,   5.81255844e-01,\n",
       "         2.14482932e+00,   2.72304739e+00,   1.14448223e+00,\n",
       "         1.34929501e+00,   1.05600730e+00,   2.47431493e-01,\n",
       "         8.60667029e-01,   3.42128279e+00,   2.37293227e-01,\n",
       "         2.38131619e+00,   7.62303649e-01,   2.17064883e-01,\n",
       "         1.06632902e+00,   3.41185114e-01,   1.21616753e+00,\n",
       "         1.10072098e+00,   3.80931874e-01,   4.84788180e-01,\n",
       "         5.58625022e-01,   4.25580560e-01,   1.02850989e+00,\n",
       "         7.11951512e-01,   2.49292214e+00,   1.72583140e+00,\n",
       "         4.08919884e-01,   6.66167993e-01,   2.55164804e+00,\n",
       "         1.25104503e+00,   8.83795963e-01,   7.40739699e-03,\n",
       "         4.44383649e-01,   3.97520035e-01,   7.20233852e-01,\n",
       "         1.53909173e+01,   2.10292442e+00,   4.62922633e-01,\n",
       "         6.89052407e-01,   5.63183564e-01,   1.30588912e+00,\n",
       "         4.61173139e+00,   1.12206793e+00,   1.88795852e-01,\n",
       "         4.62369096e+00,   4.72036479e-01,   1.08136363e+00,\n",
       "         2.18565797e+00,   5.60641357e-03,   6.73923972e-01,\n",
       "         7.74917506e-01,   2.07323155e+00,   6.89661421e+00,\n",
       "         2.50098163e+00,   4.30764490e-01,   2.05256358e+00,\n",
       "         2.24229394e-01,   1.22861493e+00,   4.57307589e-03,\n",
       "         1.64716669e+00,   2.35531091e-01,   9.60890297e-01,\n",
       "         2.21915266e-01,   2.25236475e-01,   3.10562836e+00,\n",
       "         4.42165090e+00,   8.47350692e-02,   2.40789637e-01,\n",
       "         8.37356890e-01,   4.38824209e-01,   4.17580311e-01,\n",
       "         1.91703509e+00,   1.03737580e+00,   6.33051345e+00,\n",
       "         1.23936266e+00,   2.09631717e+00,   6.19125334e-01,\n",
       "         6.44964869e-01,   6.03151465e-02,   1.69999938e+00,\n",
       "         8.25626045e-01,   2.15135307e+00,   1.81022567e+00,\n",
       "         6.60780787e-01,   1.23839868e+00,   2.76757547e+00,\n",
       "         9.24655856e-01,   5.87528498e+00,   3.08488008e-01,\n",
       "         8.49235221e-01,   3.85534960e-01,   3.05286186e-01,\n",
       "         4.48324013e-01,   3.90355613e-01,   1.38594145e-01,\n",
       "         5.36229401e+00,   9.28266828e-01,   1.80160773e+00,\n",
       "         7.31797773e-02,   1.34606931e-01,   1.11410528e+00,\n",
       "         2.35598931e+01,   2.82089652e+00,   7.64929445e-01,\n",
       "         1.04498868e+00,   9.68419648e-01,   5.15971979e-01,\n",
       "         1.51119283e+00,   2.24285004e-01,   1.33560901e+00,\n",
       "         2.61823726e+00,   1.45471055e+00,   9.94094689e-01,\n",
       "         2.59026546e+00,   7.26759686e-01,   5.85364213e-01,\n",
       "         7.10505447e-01,   3.65103513e-02,   8.10746866e+00,\n",
       "         2.61866692e+01,   1.79872149e+00,   4.36494788e-01,\n",
       "         1.82531640e+01,   1.35812954e+00,   2.68118469e-01,\n",
       "         4.69729136e+00,   3.05458512e+00,   1.17584371e+00,\n",
       "         8.61388366e-01,   1.07937960e+00,   1.08710538e+00,\n",
       "         8.33172375e-01,   1.07203986e+00,   2.47110138e+01,\n",
       "         6.06161198e-01,   1.17711718e+00,   1.15224294e+00,\n",
       "         7.03909387e-01,   1.42334941e-01,   6.89531013e-01,\n",
       "         3.79208892e+00,   1.07476208e+00,   7.31255631e-01,\n",
       "         5.38257954e-01,   2.44994501e-01,   5.43623994e-01,\n",
       "         8.54015396e-01,   1.57785997e+00,   3.55397459e-01,\n",
       "         3.95484317e-01,   4.20463235e-01,   2.15985542e-01,\n",
       "         5.55807436e-01,   3.01387640e+00,   4.30783966e-01,\n",
       "         1.48803616e+00,   1.06084097e+00,   2.21514426e+00,\n",
       "         6.38048264e-01,   6.92439733e-01,   3.60457620e-01,\n",
       "         1.96879464e+00,   9.73448385e-01,   1.31560033e+00,\n",
       "         1.20637332e+00,   5.24742671e+00,   1.23036129e+00,\n",
       "         2.51758361e+00,   2.52794567e-01,   1.98289528e+01,\n",
       "         4.21616659e-01,   1.74786152e+01,   2.19884775e-01,\n",
       "         1.70031547e-02,   4.75278117e-01,   1.46018249e+00,\n",
       "         1.16213676e+00,   1.07252099e-01,   7.89672638e-01,\n",
       "         2.36420855e+00,   2.67401856e-01,   6.46588700e-01,\n",
       "         4.43961756e-01,   1.02578340e+00,   6.71413210e-04,\n",
       "         1.10353578e-01,   1.78132776e+00,   1.78947341e+00,\n",
       "         4.67770698e+00,   3.78996755e-02,   8.44460262e-01,\n",
       "         1.52585511e+00,   3.87020528e-01,   1.13092426e+00,\n",
       "         1.52347933e+01,   6.20584922e-01,   1.18821710e+00,\n",
       "         3.62175916e+01,   3.10643860e-01,   1.16993207e+00,\n",
       "         2.25926290e+00,   3.40488708e-01,   7.71050775e-01,\n",
       "         7.95971307e-01,   3.59161973e+01,   7.38066958e-01,\n",
       "         6.61023217e-01,   3.17619133e-01,   1.45918017e+00,\n",
       "         2.40154834e-01,   2.01959122e+00,   4.38794942e+00,\n",
       "         6.20897234e-01,   3.94249986e+00,   1.42235905e-01,\n",
       "         5.75019123e-01])"
      ]
     },
     "execution_count": 123,
     "metadata": {},
     "output_type": "execute_result"
    }
   ],
   "source": [
    "linalg.spsolve(A, b)"
   ]
  },
  {
   "cell_type": "markdown",
   "metadata": {
    "collapsed": true
   },
   "source": [
    "Linear algebra operations using scipy.linalg"
   ]
  },
  {
   "cell_type": "code",
   "execution_count": 1,
   "metadata": {
    "collapsed": true
   },
   "outputs": [],
   "source": [
    "from scipy import linalg"
   ]
  },
  {
   "cell_type": "code",
   "execution_count": 7,
   "metadata": {
    "collapsed": false
   },
   "outputs": [],
   "source": [
    "arr = np.array([[1, 2],\n",
    "                [3, 4]])"
   ]
  },
  {
   "cell_type": "code",
   "execution_count": 8,
   "metadata": {
    "collapsed": false
   },
   "outputs": [
    {
     "data": {
      "text/plain": [
       "-2.0"
      ]
     },
     "execution_count": 8,
     "metadata": {},
     "output_type": "execute_result"
    }
   ],
   "source": [
    "linalg.det(arr)   # determinant of square matrix"
   ]
  },
  {
   "cell_type": "code",
   "execution_count": 9,
   "metadata": {
    "collapsed": true
   },
   "outputs": [],
   "source": [
    "iarr = linalg.inv(arr) # inverse of square matrix"
   ]
  },
  {
   "cell_type": "code",
   "execution_count": 10,
   "metadata": {
    "collapsed": false
   },
   "outputs": [
    {
     "data": {
      "text/plain": [
       "array([[-2. ,  1. ],\n",
       "       [ 1.5, -0.5]])"
      ]
     },
     "execution_count": 10,
     "metadata": {},
     "output_type": "execute_result"
    }
   ],
   "source": [
    "iarr"
   ]
  },
  {
   "cell_type": "code",
   "execution_count": null,
   "metadata": {
    "collapsed": true
   },
   "outputs": [],
   "source": []
  }
 ],
 "metadata": {
  "kernelspec": {
   "display_name": "Python 3",
   "language": "python",
   "name": "python3"
  },
  "language_info": {
   "codemirror_mode": {
    "name": "ipython",
    "version": 3
   },
   "file_extension": ".py",
   "mimetype": "text/x-python",
   "name": "python",
   "nbconvert_exporter": "python",
   "pygments_lexer": "ipython3",
   "version": "3.6.0"
  }
 },
 "nbformat": 4,
 "nbformat_minor": 2
}
